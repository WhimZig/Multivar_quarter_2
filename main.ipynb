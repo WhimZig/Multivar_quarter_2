{
 "cells": [
  {
   "cell_type": "markdown",
   "metadata": {},
   "source": [
    "## Exercise 3\n",
    "The following code follows on exercise 3 of the assignment, the rest of the assignemnt is a pdf.\n",
    "\n",
    "There's no way defined to do the update steps, but I will just assume that bayesian updating described in the assignment is the approach we should use."
   ]
  },
  {
   "cell_type": "code",
   "execution_count": 1,
   "metadata": {
    "collapsed": false,
    "jupyter": {
     "outputs_hidden": false
    }
   },
   "outputs": [
    {
     "data": {
      "text/html": [
       "<div>\n",
       "<style scoped>\n",
       "    .dataframe tbody tr th:only-of-type {\n",
       "        vertical-align: middle;\n",
       "    }\n",
       "\n",
       "    .dataframe tbody tr th {\n",
       "        vertical-align: top;\n",
       "    }\n",
       "\n",
       "    .dataframe thead th {\n",
       "        text-align: right;\n",
       "    }\n",
       "</style>\n",
       "<table border=\"1\" class=\"dataframe\">\n",
       "  <thead>\n",
       "    <tr style=\"text-align: right;\">\n",
       "      <th></th>\n",
       "      <th>t</th>\n",
       "      <th>y</th>\n",
       "    </tr>\n",
       "  </thead>\n",
       "  <tbody>\n",
       "    <tr>\n",
       "      <th>0</th>\n",
       "      <td>0.000000</td>\n",
       "      <td>0.204893</td>\n",
       "    </tr>\n",
       "    <tr>\n",
       "      <th>1</th>\n",
       "      <td>0.408163</td>\n",
       "      <td>3.677807</td>\n",
       "    </tr>\n",
       "    <tr>\n",
       "      <th>2</th>\n",
       "      <td>0.816327</td>\n",
       "      <td>-0.833757</td>\n",
       "    </tr>\n",
       "    <tr>\n",
       "      <th>3</th>\n",
       "      <td>1.224490</td>\n",
       "      <td>4.611082</td>\n",
       "    </tr>\n",
       "    <tr>\n",
       "      <th>4</th>\n",
       "      <td>1.632653</td>\n",
       "      <td>-0.376280</td>\n",
       "    </tr>\n",
       "  </tbody>\n",
       "</table>\n",
       "</div>"
      ],
      "text/plain": [
       "          t         y\n",
       "0  0.000000  0.204893\n",
       "1  0.408163  3.677807\n",
       "2  0.816327 -0.833757\n",
       "3  1.224490  4.611082\n",
       "4  1.632653 -0.376280"
      ]
     },
     "execution_count": 1,
     "metadata": {},
     "output_type": "execute_result"
    }
   ],
   "source": [
    "# First thing is to import the dataset\n",
    "# I'll just use pandas for convenience\n",
    "import pandas as pd\n",
    "import numpy as np\n",
    "data = pd.read_csv('periodic.csv')\n",
    "\n",
    "data.head()"
   ]
  },
  {
   "cell_type": "code",
   "execution_count": 26,
   "metadata": {
    "collapsed": false,
    "jupyter": {
     "outputs_hidden": false
    }
   },
   "outputs": [
    {
     "name": "stdout",
     "output_type": "stream",
     "text": [
      "[-17.47533632  -7.64284203  -8.95061303]\n"
     ]
    }
   ],
   "source": [
    "# This is not the cleanest code, but it's an easy enough way of writing things out\n",
    "#. with how python works, modifying the variables externally will update the system, so this all works out\n",
    "\n",
    "# These are just default test values for theta, just so that I can play around\n",
    "\n",
    "# First step is generating the three theta values randomly\n",
    "theta_vals = np.random.normal(0, 100., 3)\n",
    "\n",
    "def system_to_solve(t):\n",
    "    return theta_vals[0] + theta_vals[1] * t + theta_vals[2] * np.sin(2*np.pi*t) + np.random.normal()\n",
    "\n",
    "# These will vary greatly, but it is just a way of displaying what the initial theta values are\n",
    "print(theta_vals)"
   ]
  },
  {
   "cell_type": "code",
   "execution_count": 47,
   "metadata": {},
   "outputs": [],
   "source": [
    "# I will assume that initial P(-1) is going to be theta times the identity matrix\n",
    "#. because it is what makes most sense with the given definitions and information\n",
    "pk_val = np.identity(3)\n",
    "\n",
    "# A way of storing the current values in h for a given t.\n",
    "#. a lambda variable in python is just a function, this is just easier to write\n",
    "h_array_calc = lambda t: np.array([1, t, np.sin(2*np.pi*t), 1])"
   ]
  },
  {
   "cell_type": "code",
   "execution_count": null,
   "metadata": {},
   "outputs": [],
   "source": [
    "# First part of the code is finding an mk for the given step\n",
    "#. I assume the sigma is 1 here\n",
    "def calculate_mk(cur_pk, h_vals, y_val, inv_prev_pk, prev_mk):\n",
    "    temp_1 = np.transpose(h_vals) * 1 * y_val\n",
    "    temp_2 = np.matmul(inv_prev_pk, prev_mk)\n",
    "    res = np.matmul(cur_pk, temp_1 + temp_2)"
   ]
  },
  {
   "cell_type": "code",
   "execution_count": null,
   "metadata": {},
   "outputs": [],
   "source": [
    "# This calculates the next step for a given pk and a given values for H.\n",
    "#. method assumes that the sigma is 1, which for the instructions given it is\n",
    "def next_pk(pk_prev, h_vals):\n",
    "    # First step is doing the inverse of what's in the parenthesis\n",
    "    # We do the two matrix multiplications separately, due to how numpy handles them\n",
    "    temp = np.matmul(h_vals, pk_prev)\n",
    "    # This is a weird way of doing the transpose, but it's needed due to how numpy handles these arrays\n",
    "    #. It looks weird, but it works out\n",
    "    temp = np.dot(temp, h_vals[:, None]) + 1\n",
    "    temp = 1/temp\n",
    "    \n",
    "    # Again, weird way of multiplying the tranpose, but it's due to how numpy works\n",
    "    temp = np.matmul(pk_prev, h_vals) * temp * np.matmul(pk_prev, h_vals[:, None])\n",
    "    res = pk_prev - temp\n",
    "    return res"
   ]
  },
  {
   "cell_type": "code",
   "execution_count": 6,
   "metadata": {},
   "outputs": [
    {
     "data": {
      "text/plain": [
       "array([-120.04019489,  -51.78087355,    8.45582093])"
      ]
     },
     "execution_count": 6,
     "metadata": {},
     "output_type": "execute_result"
    }
   ],
   "source": [
    "# All that's left is putting the parts together depending on the number of required steps."
   ]
  }
 ],
 "metadata": {
  "kernelspec": {
   "display_name": "Python 3 (ipykernel)",
   "language": "python",
   "name": "python3"
  },
  "language_info": {
   "codemirror_mode": {
    "name": "ipython",
    "version": 3
   },
   "file_extension": ".py",
   "mimetype": "text/x-python",
   "name": "python",
   "nbconvert_exporter": "python",
   "pygments_lexer": "ipython3",
   "version": "3.9.13"
  }
 },
 "nbformat": 4,
 "nbformat_minor": 4
}
